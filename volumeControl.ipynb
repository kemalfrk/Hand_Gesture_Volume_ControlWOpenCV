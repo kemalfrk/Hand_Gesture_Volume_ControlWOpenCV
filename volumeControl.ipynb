{
 "cells": [
  {
   "cell_type": "code",
   "execution_count": 18,
   "id": "3e6463f7",
   "metadata": {
    "scrolled": true
   },
   "outputs": [
    {
     "name": "stdout",
     "output_type": "stream",
     "text": [
      "Requirement already satisfied: pyautogui in c:\\users\\iclal palay\\anaconda3\\lib\\site-packages (0.9.54)\n",
      "Requirement already satisfied: pytweening>=1.0.4 in c:\\users\\iclal palay\\anaconda3\\lib\\site-packages (from pyautogui) (1.0.7)\n",
      "Requirement already satisfied: pymsgbox in c:\\users\\iclal palay\\anaconda3\\lib\\site-packages (from pyautogui) (1.0.9)\n",
      "Requirement already satisfied: mouseinfo in c:\\users\\iclal palay\\anaconda3\\lib\\site-packages (from pyautogui) (0.1.3)\n",
      "Requirement already satisfied: pyscreeze>=0.1.21 in c:\\users\\iclal palay\\anaconda3\\lib\\site-packages (from pyautogui) (0.1.29)\n",
      "Requirement already satisfied: pygetwindow>=0.0.5 in c:\\users\\iclal palay\\anaconda3\\lib\\site-packages (from pyautogui) (0.0.9)\n",
      "Requirement already satisfied: pyrect in c:\\users\\iclal palay\\anaconda3\\lib\\site-packages (from pygetwindow>=0.0.5->pyautogui) (0.2.0)\n",
      "Requirement already satisfied: Pillow>=9.2.0 in c:\\users\\iclal palay\\anaconda3\\lib\\site-packages (from pyscreeze>=0.1.21->pyautogui) (9.2.0)\n",
      "Requirement already satisfied: pyscreenshot in c:\\users\\iclal palay\\anaconda3\\lib\\site-packages (from pyscreeze>=0.1.21->pyautogui) (3.1)\n",
      "Requirement already satisfied: pyperclip in c:\\users\\iclal palay\\anaconda3\\lib\\site-packages (from mouseinfo->pyautogui) (1.8.2)\n",
      "Requirement already satisfied: EasyProcess in c:\\users\\iclal palay\\anaconda3\\lib\\site-packages (from pyscreenshot->pyscreeze>=0.1.21->pyautogui) (1.1)\n",
      "Requirement already satisfied: entrypoint2 in c:\\users\\iclal palay\\anaconda3\\lib\\site-packages (from pyscreenshot->pyscreeze>=0.1.21->pyautogui) (1.1)\n",
      "Requirement already satisfied: mss in c:\\users\\iclal palay\\anaconda3\\lib\\site-packages (from pyscreenshot->pyscreeze>=0.1.21->pyautogui) (9.0.1)\n"
     ]
    }
   ],
   "source": [
    "!pip install pyautogui"
   ]
  },
  {
   "cell_type": "code",
   "execution_count": 31,
   "id": "76690559",
   "metadata": {},
   "outputs": [],
   "source": [
    "import cv2\n",
    "import mediapipe as mp\n",
    "from pyautogui import *\n",
    "import time\n"
   ]
  },
  {
   "cell_type": "code",
   "execution_count": 35,
   "id": "02db41af",
   "metadata": {},
   "outputs": [],
   "source": [
    "\n",
    "pTime=0\n",
    "\n",
    "cap=cv2.VideoCapture(0)\n",
    "my_hands=mp.solutions.hands.Hands()\n",
    "mpDraw=mp.solutions.drawing_utils\n",
    "\n",
    "x1=y1=x2=y2=0\n",
    "\n",
    "\n",
    "while True:\n",
    "    success,img=cap.read()\n",
    "    img=cv2.flip(img,1) #flip the camera around the y axis\n",
    "\n",
    "    rgb_img=cv2.cvtColor(img,cv2.COLOR_BGR2RGB)\n",
    "    output=my_hands.process(rgb_img)\n",
    "    hands=output.multi_hand_landmarks\n",
    "\n",
    "    if hands:\n",
    "        for hand in hands:\n",
    "            mpDraw.draw_landmarks(img,hand)\n",
    "            landmarks=hand.landmark\n",
    "            for id,landmark in enumerate(landmarks):\n",
    "                h,w,_=img.shape\n",
    "                cx,cy=int(landmark.x*w),int(landmark.y*h)\n",
    "\n",
    "                if id==8:\n",
    "                    cv2.circle(img,(cx,cy),5,(0,0,255),cv2.FILLED)\n",
    "                    x1=cx\n",
    "                    y1=cy\n",
    "                if id==4:\n",
    "                    cv2.circle(img,(cx,cy),5,(0,255,0),cv2.FILLED)\n",
    "                    x2=cx\n",
    "                    y2=cy\n",
    "\n",
    "        dist=((x2-x1)**2 + (y2-y1)**2)**(0.5)//4 #distance formula\n",
    "        cv2.line(img,(x1,y1),(x2,y2),(0,255,0),5)\n",
    "\n",
    "        \n",
    "        if dist > 20:\n",
    "            pyautogui.press(\"volumeup\")\n",
    "        else:\n",
    "            pyautogui.press(\"volumedown\")\n",
    "\n",
    "    \n",
    "    \n",
    "    #adding fps\n",
    "    cTime=time.time()\n",
    "    fps=1/(cTime-pTime)\n",
    "    pTime=cTime\n",
    "    \n",
    "    cv2.putText(img,\"FPS: \"+str(int(fps)),(10,65),cv2.FONT_HERSHEY_PLAIN,2,(255,0,0), 2)\n",
    "    \n",
    "    \n",
    "    \n",
    "    cv2.imshow(\"Volume Controller\",img)\n",
    "    key=cv2.waitKey(10)\n",
    "\n",
    "    if key==27: #when press esc button close frame\n",
    "        break\n",
    "cap.release()\n",
    "cv2.destroyAllWindows()\n"
   ]
  },
  {
   "cell_type": "code",
   "execution_count": null,
   "id": "73ad87b9",
   "metadata": {},
   "outputs": [],
   "source": []
  }
 ],
 "metadata": {
  "kernelspec": {
   "display_name": "Python 3 (ipykernel)",
   "language": "python",
   "name": "python3"
  },
  "language_info": {
   "codemirror_mode": {
    "name": "ipython",
    "version": 3
   },
   "file_extension": ".py",
   "mimetype": "text/x-python",
   "name": "python",
   "nbconvert_exporter": "python",
   "pygments_lexer": "ipython3",
   "version": "3.9.13"
  }
 },
 "nbformat": 4,
 "nbformat_minor": 5
}
